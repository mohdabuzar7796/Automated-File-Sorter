{
  "nbformat": 4,
  "nbformat_minor": 0,
  "metadata": {
    "colab": {
      "provenance": []
    },
    "kernelspec": {
      "name": "python3",
      "display_name": "Python 3"
    },
    "language_info": {
      "name": "python"
    }
  },
  "cells": [
    {
      "cell_type": "markdown",
      "source": [
        "**Automated File Sorter in File Explorer**"
      ],
      "metadata": {
        "id": "GiXZHbUoEl5v"
      }
    },
    {
      "cell_type": "code",
      "source": [
        "import os, shutil"
      ],
      "metadata": {
        "id": "bfJabCpe4F0S"
      },
      "execution_count": 1,
      "outputs": []
    },
    {
      "cell_type": "code",
      "source": [
        "path = \"/content/Automated File Sorter/\""
      ],
      "metadata": {
        "id": "2N5gDHJe455R"
      },
      "execution_count": 2,
      "outputs": []
    },
    {
      "cell_type": "code",
      "source": [
        "file_name = os.listdir(path)"
      ],
      "metadata": {
        "id": "MyBqLsRbCpuO"
      },
      "execution_count": 3,
      "outputs": []
    },
    {
      "cell_type": "code",
      "source": [
        "os.listdir(path)"
      ],
      "metadata": {
        "colab": {
          "base_uri": "https://localhost:8080/"
        },
        "id": "z7YhZs9u5F3I",
        "outputId": "a3c65f37-9e62-4246-9a71-df5e97d313dc"
      },
      "execution_count": 4,
      "outputs": [
        {
          "output_type": "execute_result",
          "data": {
            "text/plain": [
              "['Koala.jpg',\n",
              " 'Penguins.jpg',\n",
              " 'text.txt',\n",
              " '.ipynb_checkpoints',\n",
              " 'student-mat.csv',\n",
              " 'ship_detection1.png',\n",
              " 'web_scraping.svg']"
            ]
          },
          "metadata": {},
          "execution_count": 4
        }
      ]
    },
    {
      "cell_type": "code",
      "source": [
        "folder_names = ['csv files', 'image files', 'text files']\n",
        "for loop in range(0,3):\n",
        "  if not os.path.exists(path + folder_names[loop]):\n",
        "    print(path + folder_names[loop])\n",
        "    os.makedirs(path + folder_names[loop])"
      ],
      "metadata": {
        "id": "sgB8o30l5K5-"
      },
      "execution_count": 11,
      "outputs": []
    },
    {
      "cell_type": "code",
      "source": [
        "for file in file_name:\n",
        "  if \".csv\" in file and not os.path.exists(path + \"csv files/\" + file):\n",
        "    shutil.move(path + file, path + \"csv files/\" + file)\n",
        "  elif \".jpg\" in file and not os.path.exists(path + \"image files/\" + file):\n",
        "    shutil.move(path + file, path + \"image files/\" + file)\n",
        "  elif \".png\" in file and not os.path.exists(path + \"image files/\" + file):\n",
        "    shutil.move(path + file, path + \"image files/\" + file)\n",
        "  elif \".svg\" in file and not os.path.exists(path + \"image files/\" + file):\n",
        "    shutil.move(path + file, path + \"image files/\" + file)\n",
        "  elif \".txt\" in file and not os.path.exists(path + \"text files/\" + file):\n",
        "    shutil.move(path + file, path + \"text files/\" + file)"
      ],
      "metadata": {
        "id": "jio4hEYq-hrz"
      },
      "execution_count": 13,
      "outputs": []
    }
  ]
}